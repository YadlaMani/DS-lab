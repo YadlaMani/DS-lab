{
  "metadata": {
    "kernelspec": {
      "name": "python",
      "display_name": "Python (Pyodide)",
      "language": "python"
    },
    "language_info": {
      "codemirror_mode": {
        "name": "python",
        "version": 3
      },
      "file_extension": ".py",
      "mimetype": "text/x-python",
      "name": "python",
      "nbconvert_exporter": "python",
      "pygments_lexer": "ipython3",
      "version": "3.8"
    }
  },
  "nbformat_minor": 4,
  "nbformat": 4,
  "cells": [
    {
      "cell_type": "code",
      "source": "import pandas as pd\nimport matplotlib.pyplot as plt\nimport numpy as np\ndf=pd.read_csv('House_Rent_Dataset.csv')\nprint(df.head())\nprint(df.info())\ndf.describe()",
      "metadata": {
        "trusted": true
      },
      "outputs": [
        {
          "name": "stdout",
          "text": "    Posted On  BHK   Rent  Size            Floor    Area Type  \\\n0  2022-05-18    2  10000  1100  Ground out of 2   Super Area   \n1  2022-05-13    2  20000   800       1 out of 3   Super Area   \n2  2022-05-16    2  17000  1000       1 out of 3   Super Area   \n3  2022-07-04    2  10000   800       1 out of 2   Super Area   \n4  2022-05-09    2   7500   850       1 out of 2  Carpet Area   \n\n              Area Locality     City Furnishing Status  Tenant Preferred  \\\n0                    Bandel  Kolkata       Unfurnished  Bachelors/Family   \n1  Phool Bagan, Kankurgachi  Kolkata    Semi-Furnished  Bachelors/Family   \n2   Salt Lake City Sector 2  Kolkata    Semi-Furnished  Bachelors/Family   \n3               Dumdum Park  Kolkata       Unfurnished  Bachelors/Family   \n4             South Dum Dum  Kolkata       Unfurnished         Bachelors   \n\n   Bathroom Point of Contact  \n0         2    Contact Owner  \n1         1    Contact Owner  \n2         1    Contact Owner  \n3         1    Contact Owner  \n4         1    Contact Owner  \n<class 'pandas.core.frame.DataFrame'>\nRangeIndex: 4746 entries, 0 to 4745\nData columns (total 12 columns):\n #   Column             Non-Null Count  Dtype \n---  ------             --------------  ----- \n 0   Posted On          4746 non-null   object\n 1   BHK                4746 non-null   int64 \n 2   Rent               4746 non-null   int64 \n 3   Size               4746 non-null   int64 \n 4   Floor              4746 non-null   object\n 5   Area Type          4746 non-null   object\n 6   Area Locality      4746 non-null   object\n 7   City               4746 non-null   object\n 8   Furnishing Status  4746 non-null   object\n 9   Tenant Preferred   4746 non-null   object\n 10  Bathroom           4746 non-null   int64 \n 11  Point of Contact   4746 non-null   object\ndtypes: int64(4), object(8)\nmemory usage: 296.7+ KB\nNone\n",
          "output_type": "stream"
        },
        {
          "execution_count": 15,
          "output_type": "execute_result",
          "data": {
            "text/plain": "               BHK          Rent         Size     Bathroom\ncount  4746.000000  4.746000e+03  4746.000000  4746.000000\nmean      2.083860  3.499345e+04   967.490729     1.965866\nstd       0.832256  7.810641e+04   634.202328     0.884532\nmin       1.000000  1.200000e+03    10.000000     1.000000\n25%       2.000000  1.000000e+04   550.000000     1.000000\n50%       2.000000  1.600000e+04   850.000000     2.000000\n75%       3.000000  3.300000e+04  1200.000000     2.000000\nmax       6.000000  3.500000e+06  8000.000000    10.000000",
            "text/html": "<div>\n<style scoped>\n    .dataframe tbody tr th:only-of-type {\n        vertical-align: middle;\n    }\n\n    .dataframe tbody tr th {\n        vertical-align: top;\n    }\n\n    .dataframe thead th {\n        text-align: right;\n    }\n</style>\n<table border=\"1\" class=\"dataframe\">\n  <thead>\n    <tr style=\"text-align: right;\">\n      <th></th>\n      <th>BHK</th>\n      <th>Rent</th>\n      <th>Size</th>\n      <th>Bathroom</th>\n    </tr>\n  </thead>\n  <tbody>\n    <tr>\n      <th>count</th>\n      <td>4746.000000</td>\n      <td>4.746000e+03</td>\n      <td>4746.000000</td>\n      <td>4746.000000</td>\n    </tr>\n    <tr>\n      <th>mean</th>\n      <td>2.083860</td>\n      <td>3.499345e+04</td>\n      <td>967.490729</td>\n      <td>1.965866</td>\n    </tr>\n    <tr>\n      <th>std</th>\n      <td>0.832256</td>\n      <td>7.810641e+04</td>\n      <td>634.202328</td>\n      <td>0.884532</td>\n    </tr>\n    <tr>\n      <th>min</th>\n      <td>1.000000</td>\n      <td>1.200000e+03</td>\n      <td>10.000000</td>\n      <td>1.000000</td>\n    </tr>\n    <tr>\n      <th>25%</th>\n      <td>2.000000</td>\n      <td>1.000000e+04</td>\n      <td>550.000000</td>\n      <td>1.000000</td>\n    </tr>\n    <tr>\n      <th>50%</th>\n      <td>2.000000</td>\n      <td>1.600000e+04</td>\n      <td>850.000000</td>\n      <td>2.000000</td>\n    </tr>\n    <tr>\n      <th>75%</th>\n      <td>3.000000</td>\n      <td>3.300000e+04</td>\n      <td>1200.000000</td>\n      <td>2.000000</td>\n    </tr>\n    <tr>\n      <th>max</th>\n      <td>6.000000</td>\n      <td>3.500000e+06</td>\n      <td>8000.000000</td>\n      <td>10.000000</td>\n    </tr>\n  </tbody>\n</table>\n</div>"
          },
          "metadata": {}
        }
      ],
      "execution_count": 15
    },
    {
      "cell_type": "code",
      "source": "from sklearn.model_selection import train_test_split  # Import function to split data\n\n# Define features (x) and target (y)\nx = df[['BHK', 'Size', 'Bathroom']]  # Features: bedroom, area, and bathroom columns\ny = df['Rent']  # Target: price column\n\n\n# Split data into training and testing sets\nx_train, x_test, y_train, y_test = train_test_split(x, y, test_size=0.2, random_state=42)\n\n# Print training and testing target values\nprint(y_train)\nprint(y_test)\n",
      "metadata": {
        "trusted": true
      },
      "outputs": [
        {
          "name": "stdout",
          "text": "1995    23500\n1497    10500\n2763    19000\n1351    20000\n1862    17000\n        ...  \n4426    25000\n466     20000\n3092    20000\n3772    85000\n860     25000\nName: Rent, Length: 3796, dtype: int64\n1566    16000\n3159    12000\n538     28000\n2630     8000\n4418    46000\n        ...  \n4124    18000\n3400    25000\n1941    14000\n3679    26000\n2531    11000\nName: Rent, Length: 950, dtype: int64\n",
          "output_type": "stream"
        }
      ],
      "execution_count": 17
    },
    {
      "cell_type": "code",
      "source": "from sklearn.linear_model import LinearRegression  # Import linear regression model\n\n# Initialize the Linear Regression model\nreg = LinearRegression()\n\n# Train the model using the training data\nreg.fit(x_train, y_train)\n\n# Print the coefficients of the trained model\nprint(reg.coef_)\nprint(reg.intercept_)\ndef calc(slope,intercept,bhk,size,bathroom):\n    return intercept+slope[0]*bhk+slope[1]*size+slope[2]*bathroom\nrent=calc(reg.coef_,reg.intercept_,1,1100,1)\nprint(rent)\n",
      "metadata": {
        "trusted": true
      },
      "outputs": [
        {
          "name": "stdout",
          "text": "[-2.69131569e+02  2.10539407e+01  2.76245630e+04]\n-39022.928496771965\n11491.837777679848\n",
          "output_type": "stream"
        }
      ],
      "execution_count": 24
    },
    {
      "cell_type": "code",
      "source": "print(x_test)\ny_pred=reg.predict(x_test)\nprint(rent)\ndf_pred=pd.DataFrame({\"Actual\":y_test.squeeze(),'Predicted':y_pred.squeeze()})\nprint(df_pred)",
      "metadata": {
        "trusted": true
      },
      "outputs": [
        {
          "name": "stdout",
          "text": "      BHK  Size  Bathroom\n1566    2  1100         2\n3159    2   800         2\n538     2   518         2\n2630    3  1500         3\n4418    3  2235         5\n...   ...   ...       ...\n4124    2  1248         2\n3400    3  1100         2\n1941    2   950         2\n3679    3  1125         2\n2531    1   500         1\n\n[950 rows x 3 columns]\n11491.837777679848\n      Actual      Predicted\n1566   16000   38847.269247\n3159   12000   32531.087027\n538    28000   26593.875741\n2630    8000   74624.277009\n4418   46000  145348.049524\n...      ...            ...\n4124   18000   41963.252475\n3400   25000   38578.137678\n1941   14000   35689.178137\n3679   26000   39104.486196\n2531   11000   -1140.526661\n\n[950 rows x 2 columns]\n",
          "output_type": "stream"
        }
      ],
      "execution_count": 26
    },
    {
      "cell_type": "code",
      "source": "from sklearn.metrics import mean_absolute_error,mean_squared_error\nmae=mean_absolute_error(y_test,y_pred)\nmse=mean_squared_error(y_test,y_pred)\nrmse=np.sqrt(mse)\nprint(f\"Mean absolute Error:{mae}\")\nprint(f\"Mean squared error:{mse}\")\nprint(f\"Square mean squared error:{rmse}\")",
      "metadata": {
        "trusted": true
      },
      "outputs": [
        {
          "name": "stdout",
          "text": "Mean absolute Error:26191.957939851032\nMean squared error:2554775777.0457587\nSquare mean squared error:50544.789811075076\n",
          "output_type": "stream"
        }
      ],
      "execution_count": 29
    },
    {
      "cell_type": "code",
      "source": "",
      "metadata": {
        "trusted": true
      },
      "outputs": [],
      "execution_count": null
    }
  ]
}