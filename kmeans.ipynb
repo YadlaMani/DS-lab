{
  "metadata": {
    "kernelspec": {
      "name": "python",
      "display_name": "Python (Pyodide)",
      "language": "python"
    },
    "language_info": {
      "codemirror_mode": {
        "name": "python",
        "version": 3
      },
      "file_extension": ".py",
      "mimetype": "text/x-python",
      "name": "python",
      "nbconvert_exporter": "python",
      "pygments_lexer": "ipython3",
      "version": "3.8"
    }
  },
  "nbformat_minor": 4,
  "nbformat": 4,
  "cells": [
    {
      "cell_type": "code",
      "source": "import pandas as pd\nfrom sklearn.preprocessing import StandardScaler\nfrom sklearn.cluster import KMeans\nfrom sklearn.metrics import adjusted_rand_score, silhouette_score\nfrom sklearn.datasets import load_iris\n",
      "metadata": {
        "trusted": true
      },
      "outputs": [],
      "execution_count": 3
    },
    {
      "cell_type": "code",
      "source": "\n# Load the Iris dataset\niris = load_iris()\ndf = pd.DataFrame(iris.data, columns=iris.feature_names)\n\n# Display the first few rows of the dataset\nprint(df.head())\n\n# Scale the data\nscaler = StandardScaler()\nx_scaled = scaler.fit_transform(df)\n\n# Apply KMeans clustering\nkmeans = KMeans(n_clusters=3, random_state=42)\nkmeans.fit(x_scaled)\n# Get the cluster labels\nlabels = kmeans.labels_\ndf['cluster'] = labels\n\n# Get the cluster centers\ncenters = kmeans.cluster_centers_\nprint(\"Cluster centers:\\n\", centers)\n",
      "metadata": {
        "trusted": true
      },
      "outputs": [
        {
          "name": "stdout",
          "text": "   sepal length (cm)  sepal width (cm)  petal length (cm)  petal width (cm)\n0                5.1               3.5                1.4               0.2\n1                4.9               3.0                1.4               0.2\n2                4.7               3.2                1.3               0.2\n3                4.6               3.1                1.5               0.2\n4                5.0               3.6                1.4               0.2\nCluster centers:\n [[ 0.57100359 -0.37176778  0.69111943  0.66315198]\n [-0.81623084  1.31895771 -1.28683379 -1.2197118 ]\n [-1.32765367 -0.373138   -1.13723572 -1.11486192]]\n",
          "output_type": "stream"
        }
      ],
      "execution_count": 4
    },
    {
      "cell_type": "code",
      "source": "\n# Calculate the Adjusted Rand Index\ntrue_labels = iris.target\nari = adjusted_rand_score(true_labels, labels)\n\n# Calculate the Silhouette Score\nsilhouette = silhouette_score(x_scaled, labels)\n\n# Print the scores\nprint(\"Adjusted Rand Index:\", ari)\nprint(\"Silhouette Score:\", silhouette)",
      "metadata": {
        "trusted": true
      },
      "outputs": [
        {
          "name": "stdout",
          "text": "Adjusted Rand Index: 0.432804702527474\nSilhouette Score: 0.4798814508199817\n",
          "output_type": "stream"
        }
      ],
      "execution_count": 7
    },
    {
      "cell_type": "code",
      "source": "",
      "metadata": {
        "trusted": true
      },
      "outputs": [],
      "execution_count": null
    }
  ]
}