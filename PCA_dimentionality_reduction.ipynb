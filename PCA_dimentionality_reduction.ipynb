{
  "metadata": {
    "kernelspec": {
      "name": "python",
      "display_name": "Python (Pyodide)",
      "language": "python"
    },
    "language_info": {
      "codemirror_mode": {
        "name": "python",
        "version": 3
      },
      "file_extension": ".py",
      "mimetype": "text/x-python",
      "name": "python",
      "nbconvert_exporter": "python",
      "pygments_lexer": "ipython3",
      "version": "3.8"
    }
  },
  "nbformat_minor": 4,
  "nbformat": 4,
  "cells": [
    {
      "cell_type": "code",
      "source": "mport pandas as pd\nfrom sklearn.datasets import load_iris\n\n# Read the CSV file containing the iris dataset\ndf = pd.read_csv('iris.csv')\n\n# Display the first few rows of the dataset\nprint(df.head())\n\n# Display information about the dataset (e.g., column types and non-null counts)\nprint(df.info())\n\n# Check for missing data in each column\nprint(\"Missing data:\", df.isnull().sum())\n\n# Fill missing numeric data with the mean of each column (only for numeric columns)\ndf.fillna(df.mean(numeric_only=True), inplace=True)",
      "metadata": {
        "trusted": true
      },
      "outputs": [
        {
          "name": "stdout",
          "text": "   Id  SepalLengthCm  SepalWidthCm  PetalLengthCm  PetalWidthCm      Species\n0   1            5.1           3.5            1.4           0.2  Iris-setosa\n1   2            4.9           3.0            1.4           0.2  Iris-setosa\n2   3            4.7           3.2            1.3           0.2  Iris-setosa\n3   4            4.6           3.1            1.5           0.2  Iris-setosa\n4   5            5.0           3.6            1.4           0.2  Iris-setosa\n<class 'pandas.core.frame.DataFrame'>\nRangeIndex: 150 entries, 0 to 149\nData columns (total 6 columns):\n #   Column         Non-Null Count  Dtype  \n---  ------         --------------  -----  \n 0   Id             150 non-null    int64  \n 1   SepalLengthCm  150 non-null    float64\n 2   SepalWidthCm   150 non-null    float64\n 3   PetalLengthCm  150 non-null    float64\n 4   PetalWidthCm   150 non-null    float64\n 5   Species        150 non-null    object \ndtypes: float64(4), int64(1), object(1)\nmemory usage: 6.5+ KB\nNone\nMissing data: Id               0\nSepalLengthCm    0\nSepalWidthCm     0\nPetalLengthCm    0\nPetalWidthCm     0\nSpecies          0\ndtype: int64\n",
          "output_type": "stream"
        }
      ],
      "execution_count": 6
    },
    {
      "cell_type": "code",
      "source": "# Perform one-hot encoding on the 'Species' column and drop the first category to avoid multicollinearity\ndf_encoded = pd.get_dummies(df, columns=['Species'], drop_first=True)\n\n# Display the first few rows of the encoded DataFrame\nprint(\"Encoded Dataframe Head:\\n\", df_encoded.head())\n",
      "metadata": {
        "trusted": true
      },
      "outputs": [
        {
          "name": "stdout",
          "text": "Encoded Dataframe Head:\n    Id  SepalLengthCm  SepalWidthCm  PetalLengthCm  PetalWidthCm  \\\n0   1            5.1           3.5            1.4           0.2   \n1   2            4.9           3.0            1.4           0.2   \n2   3            4.7           3.2            1.3           0.2   \n3   4            4.6           3.1            1.5           0.2   \n4   5            5.0           3.6            1.4           0.2   \n\n   Species_Iris-versicolor  Species_Iris-virginica  \n0                    False                   False  \n1                    False                   False  \n2                    False                   False  \n3                    False                   False  \n4                    False                   False  \n",
          "output_type": "stream"
        }
      ],
      "execution_count": 7
    },
    {
      "cell_type": "code",
      "source": "from sklearn.preprocessing import StandardScaler\nfrom sklearn.decomposition import PCA\n\n# Feature scaling (Standardization)\nscaler = StandardScaler()\n\n# Scale the features in the encoded DataFrame\nx_scaled = scaler.fit_transform(df_encoded)\n\n# Apply PCA to reduce the features to 2 components\npca = PCA(n_components=2)\n\n# Perform PCA transformation\nx_pca = pca.fit_transform(x_scaled)\n#DataFrame \ndf_pca=pd.DataFrame(data=x_pca,columns=['PC1','PC2'])\ndf_pca['Species']=df['Species']\nprint(\"PCA DataFrame head:\\n\",df_pca.head())",
      "metadata": {
        "trusted": true
      },
      "outputs": [
        {
          "name": "stdout",
          "text": "PCA DataFrame head:\n         PC1       PC2      Species\n0 -2.875420 -0.905004  Iris-setosa\n1 -2.742339 -0.276898  Iris-setosa\n2 -2.946775 -0.519618  Iris-setosa\n3 -2.888614 -0.379181  Iris-setosa\n4 -2.927883 -1.025230  Iris-setosa\n",
          "output_type": "stream"
        }
      ],
      "execution_count": 9
    },
    {
      "cell_type": "code",
      "source": "import seaborn as sns\nimport matplotlib.pyplot as plt\n\n# Scatter plot of Sepal Length vs Sepal Width, colored by Species\nsns.scatterplot(x='sepal length (cm)', y='sepal width (cm)', hue='species', data=df)\n\n# Title and labels\nplt.title('Original Data: Sepal Length vs Sepal Width')\nplt.xlabel('Sepal Length (cm)')\nplt.ylabel('Sepal Width (cm)')\n\n# Show the plot\nplt.show()\n",
      "metadata": {
        "trusted": true
      },
      "outputs": [
        {
          "ename": "<class 'ModuleNotFoundError'>",
          "evalue": "No module named 'seaborn'",
          "traceback": [
            "\u001b[0;31m---------------------------------------------------------------------------\u001b[0m",
            "\u001b[0;31mModuleNotFoundError\u001b[0m                       Traceback (most recent call last)",
            "Cell \u001b[0;32mIn[17], line 1\u001b[0m\n\u001b[0;32m----> 1\u001b[0m \u001b[38;5;28;01mimport\u001b[39;00m \u001b[38;5;21;01mseaborn\u001b[39;00m \u001b[38;5;28;01mas\u001b[39;00m \u001b[38;5;21;01msns\u001b[39;00m\n\u001b[1;32m      2\u001b[0m \u001b[38;5;28;01mimport\u001b[39;00m \u001b[38;5;21;01mmatplotlib\u001b[39;00m\u001b[38;5;21;01m.\u001b[39;00m\u001b[38;5;21;01mpyplot\u001b[39;00m \u001b[38;5;28;01mas\u001b[39;00m \u001b[38;5;21;01mplt\u001b[39;00m\n\u001b[1;32m      4\u001b[0m \u001b[38;5;66;03m# Scatter plot of Sepal Length vs Sepal Width, colored by Species\u001b[39;00m\n",
            "\u001b[0;31mModuleNotFoundError\u001b[0m: No module named 'seaborn'"
          ],
          "output_type": "error"
        }
      ],
      "execution_count": 17
    },
    {
      "cell_type": "code",
      "source": "# Scatter plot of Sepal Length vs Sepal Width, colored by Species\nsns.scatterplot(x='Principal component 1', y='Principal component 2', hue='Species', data=df_pca)\n\n# Title and labels\nplt.title('PCA1 vs PCA2')\nplt.xlabel('Principal componet 1')\nplt.ylabel('Principal component 2')\n\n# Show the plot\nplt.show()",
      "metadata": {
        "trusted": true
      },
      "outputs": [
        {
          "ename": "<class 'NameError'>",
          "evalue": "name 'sns' is not defined",
          "traceback": [
            "\u001b[0;31m---------------------------------------------------------------------------\u001b[0m",
            "\u001b[0;31mNameError\u001b[0m                                 Traceback (most recent call last)",
            "Cell \u001b[0;32mIn[16], line 2\u001b[0m\n\u001b[1;32m      1\u001b[0m \u001b[38;5;66;03m# Scatter plot of Sepal Length vs Sepal Width, colored by Species\u001b[39;00m\n\u001b[0;32m----> 2\u001b[0m \u001b[43msns\u001b[49m\u001b[38;5;241m.\u001b[39mscatterplot(x\u001b[38;5;241m=\u001b[39m\u001b[38;5;124m'\u001b[39m\u001b[38;5;124mPrincipal component 1\u001b[39m\u001b[38;5;124m'\u001b[39m, y\u001b[38;5;241m=\u001b[39m\u001b[38;5;124m'\u001b[39m\u001b[38;5;124mPrincipal component 2\u001b[39m\u001b[38;5;124m'\u001b[39m, hue\u001b[38;5;241m=\u001b[39m\u001b[38;5;124m'\u001b[39m\u001b[38;5;124mSpecies\u001b[39m\u001b[38;5;124m'\u001b[39m, data\u001b[38;5;241m=\u001b[39mdf_pca)\n\u001b[1;32m      4\u001b[0m \u001b[38;5;66;03m# Title and labels\u001b[39;00m\n\u001b[1;32m      5\u001b[0m plt\u001b[38;5;241m.\u001b[39mtitle(\u001b[38;5;124m'\u001b[39m\u001b[38;5;124mPCA1 vs PCA2\u001b[39m\u001b[38;5;124m'\u001b[39m)\n",
            "\u001b[0;31mNameError\u001b[0m: name 'sns' is not defined"
          ],
          "output_type": "error"
        }
      ],
      "execution_count": 16
    },
    {
      "cell_type": "code",
      "source": "",
      "metadata": {
        "trusted": true
      },
      "outputs": [],
      "execution_count": null
    }
  ]
}