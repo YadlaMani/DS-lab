{
  "metadata": {
    "kernelspec": {
      "name": "python",
      "display_name": "Python (Pyodide)",
      "language": "python"
    },
    "language_info": {
      "codemirror_mode": {
        "name": "python",
        "version": 3
      },
      "file_extension": ".py",
      "mimetype": "text/x-python",
      "name": "python",
      "nbconvert_exporter": "python",
      "pygments_lexer": "ipython3",
      "version": "3.8"
    }
  },
  "nbformat_minor": 4,
  "nbformat": 4,
  "cells": [
    {
      "cell_type": "code",
      "source": "import pandas as pd\nfrom sklearn.datasets import load_breast_cancer\n\n# Load the breast cancer dataset\ndata = load_breast_cancer()\n\n# Create a DataFrame with feature data and feature names as column headers\ndf = pd.DataFrame(data.data, columns=data.feature_names)\n\n# Add the target column to the DataFrame\ndf['target'] = data.target\n\n# Display the first few rows of the DataFrame and its info\nprint(df.head())\nprint(df.info())\nprint(\"Missing values:\\n\",df.isnull().sum())",
      "metadata": {
        "trusted": true
      },
      "outputs": [
        {
          "name": "stderr",
          "text": "<ipython-input-1-fa4190785f92>:1: DeprecationWarning: \nPyarrow will become a required dependency of pandas in the next major release of pandas (pandas 3.0),\n(to allow more performant data types, such as the Arrow string type, and better interoperability with other libraries)\nbut was not found to be installed on your system.\nIf this would cause problems for you,\nplease provide us feedback at https://github.com/pandas-dev/pandas/issues/54466\n        \n  import pandas as pd\n",
          "output_type": "stream"
        },
        {
          "name": "stdout",
          "text": "   mean radius  mean texture  mean perimeter  mean area  mean smoothness  \\\n0        17.99         10.38          122.80     1001.0          0.11840   \n1        20.57         17.77          132.90     1326.0          0.08474   \n2        19.69         21.25          130.00     1203.0          0.10960   \n3        11.42         20.38           77.58      386.1          0.14250   \n4        20.29         14.34          135.10     1297.0          0.10030   \n\n   mean compactness  mean concavity  mean concave points  mean symmetry  \\\n0           0.27760          0.3001              0.14710         0.2419   \n1           0.07864          0.0869              0.07017         0.1812   \n2           0.15990          0.1974              0.12790         0.2069   \n3           0.28390          0.2414              0.10520         0.2597   \n4           0.13280          0.1980              0.10430         0.1809   \n\n   mean fractal dimension  ...  worst texture  worst perimeter  worst area  \\\n0                 0.07871  ...          17.33           184.60      2019.0   \n1                 0.05667  ...          23.41           158.80      1956.0   \n2                 0.05999  ...          25.53           152.50      1709.0   \n3                 0.09744  ...          26.50            98.87       567.7   \n4                 0.05883  ...          16.67           152.20      1575.0   \n\n   worst smoothness  worst compactness  worst concavity  worst concave points  \\\n0            0.1622             0.6656           0.7119                0.2654   \n1            0.1238             0.1866           0.2416                0.1860   \n2            0.1444             0.4245           0.4504                0.2430   \n3            0.2098             0.8663           0.6869                0.2575   \n4            0.1374             0.2050           0.4000                0.1625   \n\n   worst symmetry  worst fractal dimension  target  \n0          0.4601                  0.11890       0  \n1          0.2750                  0.08902       0  \n2          0.3613                  0.08758       0  \n3          0.6638                  0.17300       0  \n4          0.2364                  0.07678       0  \n\n[5 rows x 31 columns]\n<class 'pandas.core.frame.DataFrame'>\nRangeIndex: 569 entries, 0 to 568\nData columns (total 31 columns):\n #   Column                   Non-Null Count  Dtype  \n---  ------                   --------------  -----  \n 0   mean radius              569 non-null    float64\n 1   mean texture             569 non-null    float64\n 2   mean perimeter           569 non-null    float64\n 3   mean area                569 non-null    float64\n 4   mean smoothness          569 non-null    float64\n 5   mean compactness         569 non-null    float64\n 6   mean concavity           569 non-null    float64\n 7   mean concave points      569 non-null    float64\n 8   mean symmetry            569 non-null    float64\n 9   mean fractal dimension   569 non-null    float64\n 10  radius error             569 non-null    float64\n 11  texture error            569 non-null    float64\n 12  perimeter error          569 non-null    float64\n 13  area error               569 non-null    float64\n 14  smoothness error         569 non-null    float64\n 15  compactness error        569 non-null    float64\n 16  concavity error          569 non-null    float64\n 17  concave points error     569 non-null    float64\n 18  symmetry error           569 non-null    float64\n 19  fractal dimension error  569 non-null    float64\n 20  worst radius             569 non-null    float64\n 21  worst texture            569 non-null    float64\n 22  worst perimeter          569 non-null    float64\n 23  worst area               569 non-null    float64\n 24  worst smoothness         569 non-null    float64\n 25  worst compactness        569 non-null    float64\n 26  worst concavity          569 non-null    float64\n 27  worst concave points     569 non-null    float64\n 28  worst symmetry           569 non-null    float64\n 29  worst fractal dimension  569 non-null    float64\n 30  target                   569 non-null    int32  \ndtypes: float64(30), int32(1)\nmemory usage: 135.7 KB\nNone\n",
          "output_type": "stream"
        }
      ],
      "execution_count": 1
    },
    {
      "cell_type": "code",
      "source": "from sklearn.preprocessing import StandardScaler  # Import the StandardScaler for feature scaling\n\n# Separate features (x) and target (y)\nx = df.drop(columns=['target'])  # Drop the 'target' column from the DataFrame to get feature data\ny = df['target']  # Define 'target' as the target variable\n\n# Store the column names of x to keep track after scaling\nx_columns = x.columns\n\n# Initialize the StandardScaler\nscaler = StandardScaler()\n\n# Scale the feature data\nx_scaled = scaler.fit_transform(x)  # Fit the scaler to x and transform x to get scaled data\nfrom sklearn.feature_selection import RFE\nfrom sklearn.linear_model import LogisticRegression\n\n# Initialize the logistic regression model as the estimator\nestimator = LogisticRegression(max_iter=100)\n\n# Set up Recursive Feature Elimination (RFE) with the specified estimator\n# and the number of features to select\nselector = RFE(estimator, n_features_to_select=10)\n\n# Fit the RFE selector on the scaled features and target\nselector = selector.fit(x_scaled, y)\n\n# Extract the selected feature names\nselected_features = x_columns[selector.support_]\n\n# Display the selected features\nprint(\"Selected features:\", selected_features)\n",
      "metadata": {
        "trusted": true
      },
      "outputs": [
        {
          "name": "stdout",
          "text": "Selected features: Index(['mean concave points', 'radius error', 'area error',\n       'compactness error', 'worst radius', 'worst texture', 'worst perimeter',\n       'worst area', 'worst concavity', 'worst concave points'],\n      dtype='object')\n",
          "output_type": "stream"
        }
      ],
      "execution_count": 5
    },
    {
      "cell_type": "code",
      "source": "# Create a DataFrame with the selected features after RFE transformation\nx_selected = pd.DataFrame(selector.transform(x_scaled), columns=selected_features)\n\n# Concatenate the selected features DataFrame with the target column\ndf_selected = pd.concat([x_selected, df['target']], axis=1)\n\n# Display the first few rows of the new DataFrame\nprint(\"RFE DF Head:\\n\", df_selected.head())\n",
      "metadata": {
        "trusted": true
      },
      "outputs": [
        {
          "name": "stdout",
          "text": "RFE DF Head:\n    mean concave points  radius error  area error  compactness error  \\\n0             2.532475      2.489734    2.487578           1.316862   \n1             0.548144      0.499255    0.742402          -0.692926   \n2             2.037231      1.228676    1.181336           0.814974   \n3             1.451707      0.326373   -0.288378           2.744280   \n4             1.428493      1.270543    1.190357          -0.048520   \n\n   worst radius  worst texture  worst perimeter  worst area  worst concavity  \\\n0      1.886690      -1.359293         2.303601    2.001237         2.109526   \n1      1.805927      -0.369203         1.535126    1.890489        -0.146749   \n2      1.511870      -0.023974         1.347475    1.456285         0.854974   \n3     -0.281464       0.133984        -0.249939   -0.550021         1.989588   \n4      1.298575      -1.466770         1.338539    1.220724         0.613179   \n\n   worst concave points  target  \n0              2.296076       0  \n1              1.087084       0  \n2              1.955000       0  \n3              2.175786       0  \n4              0.729259       0  \n",
          "output_type": "stream"
        }
      ],
      "execution_count": 8
    },
    {
      "cell_type": "code",
      "source": "#Result before rfe\nfrom sklearn.model_selection import train_test_split\nfrom sklearn.metrics import accuracy_score,classification_report\nx_train,x_test,y_train,y_test=train_test_split(x_scaled,y,test_size=0.2,random_state=42)\nmodel=LogisticRegression(max_iter=100)\nmodel.fit(x_train,y_train)\ny_pred=model.predict(x_test)\nprint(\"Model performance before RFE\")\nprint(\"Accuary:\",accuracy_score(y_test,y_pred))\nprint(\"Classification report:\",classification_report(y_test,y_pred))\n      ",
      "metadata": {
        "trusted": true
      },
      "outputs": [
        {
          "name": "stdout",
          "text": "Model performance before RFE\nAccuary: 0.9736842105263158\nClassification report:               precision    recall  f1-score   support\n\n           0       0.98      0.95      0.96        43\n           1       0.97      0.99      0.98        71\n\n    accuracy                           0.97       114\n   macro avg       0.97      0.97      0.97       114\nweighted avg       0.97      0.97      0.97       114\n\n",
          "output_type": "stream"
        }
      ],
      "execution_count": 10
    },
    {
      "cell_type": "code",
      "source": "#Results after RFE\nx_train,x_test,y_train,y_test=train_test_split(x_selected,y,test_size=0.2,random_state=42)\nmodel=LogisticRegression(max_iter=100)\nmodel.fit(x_train,y_train)\ny_pred=model.predict(x_test)\nprint(\"Model performace after RFE\")\nprint(\"Accuracy:\",accuracy_score(y_test,y_pred))\nprint(\"Classification Report:\",classification_report(y_test,y_pred))",
      "metadata": {
        "trusted": true
      },
      "outputs": [
        {
          "name": "stdout",
          "text": "Model performace after RFE\nAccuracy: 0.9736842105263158\nClassification Report:               precision    recall  f1-score   support\n\n           0       0.98      0.95      0.96        43\n           1       0.97      0.99      0.98        71\n\n    accuracy                           0.97       114\n   macro avg       0.97      0.97      0.97       114\nweighted avg       0.97      0.97      0.97       114\n\n",
          "output_type": "stream"
        }
      ],
      "execution_count": 11
    },
    {
      "cell_type": "code",
      "source": "",
      "metadata": {
        "trusted": true
      },
      "outputs": [],
      "execution_count": null
    }
  ]
}