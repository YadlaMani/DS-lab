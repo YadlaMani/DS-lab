import pandas as pd
from sklearn.model_selection import train_test_split
from sklearn.linear_model import LinearRegression
from sklearn.decomposition import PCA
from sklearn.metrics import mean_squared_error, r2_score

# Load the dataset
student_data = pd.read_csv('student_score.csv')

# Check for any missing values
print(student_data.isnull().sum())

# Separate features and target
X = student_data.drop('target_column', axis=1)  # Replace 'target_column' with the actual column name for the target
y = student_data['target_column']

# Split the data into training and testing sets
X_train, X_test, y_train, y_test = train_test_split(X, y, test_size=0.2, random_state=42)

# Model 1: Linear Regression without Dimensionality Reduction
lr = LinearRegression()
lr.fit(X_train, y_train)
y_pred = lr.predict(X_test)

# Evaluate the model
mse_full = mean_squared_error(y_test, y_pred)
r2_full = r2_score(y_test, y_pred)
print("Model without PCA")
print(f"Mean Squared Error: {mse_full:.2f}")
print(f"R-squared: {r2_full:.2f}")

# Model 2: Linear Regression with Dimensionality Reduction (PCA)
pca = PCA(n_components=0.95)  # Retain 95% of variance
X_train_pca = pca.fit_transform(X_train)
X_test_pca = pca.transform(X_test)

lr_pca = LinearRegression()
lr_pca.fit(X_train_pca, y_train)
y_pred_pca = lr_pca.predict(X_test_pca)

# Evaluate the PCA model
mse_pca = mean_squared_error(y_test, y_pred_pca)
r2_pca = r2_score(y_test, y_pred_pca)
print("\nModel with PCA")
print(f"Mean Squared Error: {mse_pca:.2f}")
print(f"R-squared: {r2_pca:.2f}")
